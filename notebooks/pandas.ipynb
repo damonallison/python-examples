{
 "cells": [
  {
   "cell_type": "code",
   "execution_count": 32,
   "id": "1b25a1c9",
   "metadata": {},
   "outputs": [
    {
     "name": "stdout",
     "output_type": "stream",
     "text": [
      "Pandas version: 1.4.3\n"
     ]
    }
   ],
   "source": [
    "import numpy as np\n",
    "import pandas as pd\n",
    "print(f\"Pandas version: {pd.__version__}\")"
   ]
  },
  {
   "cell_type": "code",
   "execution_count": 31,
   "id": "85fc577f",
   "metadata": {},
   "outputs": [
    {
     "name": "stdout",
     "output_type": "stream",
     "text": [
      "age                 int64\n",
      "gender             object\n",
      "employment_type    object\n",
      "income              int64\n",
      "dtype: object\n",
      "<class 'pandas.core.frame.DataFrame'>\n",
      "RangeIndex: 5 entries, 0 to 4\n",
      "Data columns (total 4 columns):\n",
      " #   Column           Non-Null Count  Dtype \n",
      "---  ------           --------------  ----- \n",
      " 0   age              5 non-null      int64 \n",
      " 1   gender           5 non-null      object\n",
      " 2   employment_type  5 non-null      object\n",
      " 3   income           5 non-null      int64 \n",
      "dtypes: int64(2), object(2)\n",
      "memory usage: 288.0+ bytes\n",
      "None\n",
      "             age         income\n",
      "count   5.000000       5.000000\n",
      "mean   42.400000   73522.000000\n",
      "std     8.142481   38320.273244\n",
      "min    31.000000   23423.000000\n",
      "25%    39.000000   50000.000000\n",
      "50%    42.000000   80992.000000\n",
      "75%    48.000000   89763.000000\n",
      "max    52.000000  123432.000000\n"
     ]
    }
   ],
   "source": [
    "df = pd.read_csv(\"../tests/libraries/test_pandas/data/test_categorical.csv\")\n",
    "\n",
    "print(df.dtypes)\n",
    "print(df.info())\n",
    "print(df.describe())\n"
   ]
  }
 ],
 "metadata": {
  "kernelspec": {
   "display_name": "Python 3.9.13 ('python-examples-R5lcRRNs-py3.9')",
   "language": "python",
   "name": "python3"
  },
  "language_info": {
   "codemirror_mode": {
    "name": "ipython",
    "version": 3
   },
   "file_extension": ".py",
   "mimetype": "text/x-python",
   "name": "python",
   "nbconvert_exporter": "python",
   "pygments_lexer": "ipython3",
   "version": "3.9.13"
  },
  "vscode": {
   "interpreter": {
    "hash": "62427e53dc9942da19dbc00cd9f47288f822948dd44c40f6c9dd556a372c84be"
   }
  }
 },
 "nbformat": 4,
 "nbformat_minor": 5
}
